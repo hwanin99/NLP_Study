{
  "nbformat": 4,
  "nbformat_minor": 0,
  "metadata": {
    "colab": {
      "provenance": [],
      "include_colab_link": true
    },
    "kernelspec": {
      "name": "python3",
      "display_name": "Python 3"
    },
    "accelerator": "GPU"
  },
  "cells": [
    {
      "cell_type": "markdown",
      "metadata": {
        "id": "view-in-github",
        "colab_type": "text"
      },
      "source": [
        "<a href=\"https://colab.research.google.com/github/hwanin99/NLP_Study/blob/main/9_%ED%95%A9%EC%84%B1%EA%B3%B1%20%EC%8B%A0%EA%B2%BD%EB%A7%9D(Convolution%20Neural%20Network).ipynb\" target=\"_parent\"><img src=\"https://colab.research.google.com/assets/colab-badge.svg\" alt=\"Open In Colab\"/></a>"
      ]
    },
    {
      "cell_type": "markdown",
      "metadata": {
        "id": "86l7I5SQ_u9J"
      },
      "source": [
        "# 합성곱 신경망(Convolution Neural Network)\n",
        "\n",
        "- 이미지 인식, 음성 인식 등에 자주 사용되는데,  \n",
        "  특히, 이미지 인식 분야에서 거의 모든 딥러닝 기술에 사용\n",
        "\n",
        "<br>\n",
        "\n",
        "## 컨볼루션 신경망의 등장\n",
        "- 1989년 얀 르쿤(Yann LeCun) 교수의 논문에서 발표\n",
        "\n",
        "  - 필기체 인식에서 의미가 있었지만 범용화하는데에는 무리\n",
        "\n",
        "- 1998년, \"Gradient-Based Learning Applied to Document Recognition\"이라는 논문에서 LeNet-5 제시\n",
        "\n",
        "- 합성곱 층(convolution layer), 풀링 층(pooling layer) 소개\n",
        "  <br>\n",
        "\n",
        "  <img src=\"https://miro.medium.com/max/4308/1*1TI1aGBZ4dybR6__DI9dzA.png\">\n",
        "  \n",
        "  <center>[LeNet-5 구조]</center>\n",
        "\n",
        "  <sub>출처: https://medium.com/@pechyonkin/key-deep-learning-architectures-lenet-5-6fc3c59e6f4</sub>"
      ]
    },
    {
      "cell_type": "markdown",
      "metadata": {
        "id": "Y46evOQHNukF"
      },
      "source": [
        "## 컨볼루션 신경망 구조 예시\n",
        "\n",
        "<img src=\"https://www.oreilly.com/library/view/neural-network-projects/9781789138900/assets/c38754ca-f2ea-425a-b7a6-1fe0f2f5074e.png\" width=\"600\">\n",
        "\n",
        "<sub>출처: https://www.oreilly.com/library/view/neural-network-projects/9781789138900/8e87ad66-6de3-4275-81a4-62b54436bf16.xhtml</sub>\n",
        "\n"
      ]
    },
    {
      "cell_type": "markdown",
      "metadata": {
        "id": "Wtb8UWyTNxp_"
      },
      "source": [
        "## 합성곱 연산\n",
        "- 필터(filter) 연산\n",
        "  - 입력 데이터에 필터를 통한 어떠한 연산을 진행\n",
        "  \n",
        "  - **필터에 대응하는 원소끼리 곱하고, 그 합을 구함**\n",
        "\n",
        "  - 연산이 완료된 결과 데이터를 **특징 맵(feature map)**이라 부름\n",
        "\n",
        "- 필터(filter)\n",
        "  - 커널(kernel)이라고도 칭함\n",
        "  \n",
        "  - 흔히 사진 어플에서 사용하는 '이미지 필터'와 비슷한 개념\n",
        "\n",
        "  - 필터의 사이즈는 \"거의 항상 홀수\"\n",
        "    - 짝수이면 패딩이 비대칭이 되어버림\n",
        "  \n",
        "    - 왼쪽, 오른쪽을 다르게 주어야함\n",
        "  \n",
        "    - 중심위치가 존재, 즉 구별된 하나의 픽셀(중심 픽셀)이 존재\n",
        "\n",
        "  - 필터의 학습 파라미터 개수는 입력 데이터의 크기와 상관없이 일정  \n",
        "    따라서, 과적합을 방지할 수 있음\n",
        "\n",
        "  <br>\n",
        "  <img src=\"http://deeplearning.net/software/theano_versions/dev/_images/numerical_no_padding_no_strides.gif\">\n",
        "\n",
        "  <sub>출처: http://deeplearning.net/software/theano_versions/dev/tutorial/conv_arithmetic.html</sub>\n",
        "\n",
        "\n",
        "- 연산 시각화\n",
        "  <img src=\"https://www.researchgate.net/profile/Ihab_S_Mohamed/publication/324165524/figure/fig3/AS:611103423860736@1522709818959/An-example-of-convolution-operation-in-2D-2.png\" width=\"500\">\n",
        "\n",
        "  <sub>출처: https://www.researchgate.net/figure/An-example-of-convolution-operation-in-2D-2_fig3_324165524</sub>\n",
        "\n",
        "\n",
        "- 일반적으로, 합성곱 연산을 한 후의 데이터 사이즈는  \n",
        "  ### $\\quad (n-f+1) \\times (n-f+1)$\n",
        "    $n$: 입력 데이터의 크기  \n",
        "    $f$: 필터(커널)의 크기\n",
        "\n",
        "\n",
        "  <img src=\"https://miro.medium.com/max/1400/1*Fw-ehcNBR9byHtho-Rxbtw.gif\" width=\"400\">\n",
        "\n",
        "  <sub>출처: https://towardsdatascience.com/intuitively-understanding-convolutions-for-deep-learning-1f6f42faee1</sub>\n",
        "  \n",
        "  위 예에서 입력 데이터 크기($n$)는 5, 필터의 크기($k$)는 3이므로  \n",
        "  출력 데이터의 크기는 $(5 - 3 + 1) = 3$\n"
      ]
    },
    {
      "cell_type": "markdown",
      "metadata": {
        "id": "5-ekDsJwN2Y-"
      },
      "source": [
        "## 패딩(padding)과 스트라이드(stride)\n",
        "- 필터(커널) 사이즈과 함께 **입력 이미지와 출력 이미지의 사이즈를 결정**하기 위해 사용\n",
        "\n",
        "- 사용자가 결정할 수 있음\n"
      ]
    },
    {
      "cell_type": "markdown",
      "metadata": {
        "id": "alV1bgcjN4Kc"
      },
      "source": [
        "\n",
        "### 패딩\n",
        "- 입력 데이터의 주변을 특정 값으로 채우는 기법\n",
        "  - 주로 0으로 많이 채움\n",
        "\n",
        "  <img src=\"http://deeplearning.net/software/theano_versions/dev/_images/arbitrary_padding_no_strides.gif\" width=\"300\">\n",
        "\n",
        "- 출력 데이터의 크기\n",
        "  ### $\\quad (n+2p-f+1) \\times (n+2p-f+1)$\n",
        "\n",
        "  위 그림에서, 입력 데이터의 크기($n$)는 5, 필터의 크기($f$)는 4, 패딩값($p$)은 2이므로    \n",
        "  출력 데이터의 크기는 ($5 + 2\\times 2 - 4 + 1) = 6$\n",
        "\n",
        "### 'valid' 와 'same'\n",
        "- 'valid'\n",
        "  - 패딩을 주지 않음\n",
        "  - padding=0 (0으로 채워진 테두리가 아니라 패딩을 주지 않는다는 의미)\n",
        "\n",
        "- 'same'\n",
        "  - 패딩을 주어 입력 이미지의 크기와 연산 후의 이미지 크기를 같게함\n",
        "\n",
        "  - 만약, 필터(커널)의 크기가 $k$ 이면,  \n",
        "    패딩의 크기는 $p = \\frac{k-1}{2}$ (단, <u>stride=1)</u>"
      ]
    },
    {
      "cell_type": "markdown",
      "metadata": {
        "id": "zlZ7zG6ON85J"
      },
      "source": [
        "\n",
        "\n",
        "### 스트라이드\n",
        "- 필터를 적용하는 간격을 의미\n",
        "\n",
        "- 아래는 그림의 간격 2\n",
        "\n",
        "  <img src=\"http://deeplearning.net/software/theano_versions/dev/_images/no_padding_strides.gif\">\n"
      ]
    },
    {
      "cell_type": "markdown",
      "metadata": {
        "id": "LPcsND-0OCNm"
      },
      "source": [
        "## 출력 데이터의 크기\n",
        "\n",
        "## $\\qquad OH = \\frac{H + 2P - FH}{S} + 1 $ \n",
        "## $\\qquad OW = \\frac{W + 2P - FW}{S} + 1 $ \n",
        "\n",
        "- 입력 크기 : $(H, W)$\n",
        "\n",
        "- 필터 크기 : $(FH, FW)$\n",
        "\n",
        "- 출력 크기 : $(OH, OW)$\n",
        "\n",
        "- 패딩, 스트라이드 : $P, S$\n",
        "\n",
        "- (주의) \n",
        "  - 위 식의 값에서 $\\frac{H + 2P - FH}{S}$ 또는 $\\frac{W + 2P - FW}{S}$가 정수로 나누어 떨어지는 값이어야 함\n",
        "  - 만약, 정수로 나누어 떨어지지 않으면  \n",
        "    패딩, 스트라이드값을 조정하여 정수로 나누어 떨어지게 해야함\n"
      ]
    },
    {
      "cell_type": "markdown",
      "metadata": {
        "id": "1x4UoMbF8jJ9"
      },
      "source": [
        "## 풀링(Pooling)\n",
        "\n",
        "- 필터(커널) 사이즈 내에서 특정 값을 추출하는 과정"
      ]
    },
    {
      "cell_type": "markdown",
      "metadata": {
        "id": "lDiaO3XF8oC_"
      },
      "source": [
        "### 맥스 풀링(Max Pooling)\n",
        "- 가장 많이 사용되는 방법\n",
        "\n",
        "- 출력 데이터의 사이즈 계산은 컨볼루션 연산과 동일\n",
        "## $\\quad OH = \\frac{H + 2P - FH}{S} + 1 $ \n",
        "## $\\quad OW = \\frac{W + 2P - FW}{S} + 1 $ \n",
        "\n",
        "- 일반적으로 stride=2, kernel_size=2 를 통해  \n",
        "  **특징맵의 크기를 <u>절반으로 줄이는 역할</u>**\n",
        "\n",
        "- 모델이 물체의 주요한 특징을 학습할 수 있도록 해주며,  \n",
        "  컨볼루션 신경망이 이동 불변성 특성을 가지게 해줌\n",
        "  - 예를 들어, 아래의 그림에서 초록색 사각형 안에 있는  \n",
        "    2와 8의 위치를 바꾼다해도 맥스 풀링 연산은 8을 추출\n",
        "\n",
        "- 모델의 파라미터 개수를 줄여주고, 연산 속도를 빠르게 해줌\n",
        "\n",
        "  <br>\n",
        "\n",
        "  <img src=\"https://cs231n.github.io/assets/cnn/maxpool.jpeg\" width=\"600\">\n",
        "\n",
        "  <sub>출처: https://cs231n.github.io/convolutional-networks/</sub>"
      ]
    },
    {
      "cell_type": "markdown",
      "metadata": {
        "id": "CrvtX4LrkhPI"
      },
      "source": [
        "## Conv1D \n",
        "\n",
        "- 텍스트 분류나 시계열 예측 같은 간단한 문제, 오디오 생성, 기계 번역 등의 문제에서 좋은 성능\n",
        "\n",
        "- 타임스텝의 순서에 민감하지 X\n",
        "\n",
        "\n",
        "- 2D Convolution\n",
        "  - 지역적 특징을 인식\n",
        "\n",
        "  <img src=\"https://missinglink.ai/wp-content/uploads/2019/03/2D-convolutional-example_2x-700x584.png\" width=\"500\">\n",
        "\n",
        "- 1D Convolution\n",
        "  - 문맥을 인식\n",
        "\n",
        "  <img src=\"https://missinglink.ai/wp-content/uploads/2019/03/1D-convolutional-example_2x.png\" width=\"500\">\n",
        "\n",
        "  <sub>출처: https://missinglink.ai/guides/keras/keras-conv1d-working-1d-convolutional-neural-networks-keras/</sub>"
      ]
    },
    {
      "cell_type": "markdown",
      "metadata": {
        "id": "aJNAI-aYnDuc"
      },
      "source": [
        "### Conv1D Layer\n",
        "- 입력: `(batch_size, timesteps, channels)`\n",
        "\n",
        "- 출력: `(batch_size, timesteps, filters)`\n",
        "\n",
        "- 필터의 사이즈가 커져도 모델이 급격히 증가하지 않기 때문에 다양한 크기를 사용할 수 있음\n",
        "- 데이터의 품질이 좋으면 굳이 크기를 달리하여 여러 개를 사용하지 않아도 될 수도 있음"
      ]
    },
    {
      "cell_type": "markdown",
      "metadata": {
        "id": "ADJZHPLJqTZa"
      },
      "source": [
        "### MaxPooling1D Layer\n",
        "- 다운 샘플링 효과\n",
        "\n",
        "- 단지 1차원형태로 바뀐 것 뿐"
      ]
    },
    {
      "cell_type": "markdown",
      "metadata": {
        "id": "wirZzwYJrNll"
      },
      "source": [
        "### GlovalMaxPooling Layer\n",
        "- 배치차원을 제외하고 2차원 형태를 1차원 형태로 바꾸어주는 레이어\n",
        "\n",
        "- Flatten layer로 대신 사용가능"
      ]
    },
    {
      "cell_type": "markdown",
      "metadata": {
        "id": "YQY_1IL9nQs2"
      },
      "source": [
        "## IMDB 데이터"
      ]
    },
    {
      "cell_type": "markdown",
      "metadata": {
        "id": "pl4Eu32qnUES"
      },
      "source": [
        "### 데이터 로드 및 전처리"
      ]
    },
    {
      "cell_type": "code",
      "metadata": {
        "id": "WcG-Hiltklbe"
      },
      "source": [
        "from tensorflow.keras.datasets import imdb\n",
        "from tensorflow.keras.preprocessing.sequence import pad_sequences\n",
        "from tensorflow.keras.models import Sequential\n",
        "from tensorflow.keras.optimizers import RMSprop\n",
        "from tensorflow.keras.layers import Dense,Embedding,Conv1D,MaxPooling1D,GlobalMaxPooling1D"
      ],
      "execution_count": null,
      "outputs": []
    },
    {
      "cell_type": "code",
      "metadata": {
        "id": "GGYaNT8hnec5",
        "colab": {
          "base_uri": "https://localhost:8080/"
        },
        "outputId": "9a9c145e-d68e-4f5e-fe45-df99d95c2584"
      },
      "source": [
        "#25000개 샘플중에서 빈도수가 10000번째인 단어까지만 데이터셋으로 만듬.\n",
        "num_words=10000\n",
        "\n",
        "(x_train,y_train),(x_test,y_test)=imdb.load_data(num_words=num_words)\n",
        "\n",
        "print(len(x_train))\n",
        "print(len(x_test))\n",
        "print(len(y_train))\n",
        "print(len(y_test))"
      ],
      "execution_count": null,
      "outputs": [
        {
          "output_type": "stream",
          "name": "stdout",
          "text": [
            "Downloading data from https://storage.googleapis.com/tensorflow/tf-keras-datasets/imdb.npz\n",
            "17464789/17464789 [==============================] - 1s 0us/step\n",
            "25000\n",
            "25000\n",
            "25000\n",
            "25000\n"
          ]
        }
      ]
    },
    {
      "cell_type": "code",
      "metadata": {
        "id": "nQBzp3ownpEK",
        "colab": {
          "base_uri": "https://localhost:8080/"
        },
        "outputId": "d91d2e53-e54f-4496-d549-82e6c9615397"
      },
      "source": [
        "#리뷰의 길이가 다르므로, 패딩을 통해 train,test의 길이를 500으로 맞춤\n",
        "max_len=500\n",
        "pad_x_train=pad_sequences(x_train,maxlen=500)\n",
        "pad_x_test=pad_sequences(x_test,maxlen=max_len)\n",
        "\n",
        "print(pad_x_train.shape)\n",
        "print(pad_x_test.shape)"
      ],
      "execution_count": null,
      "outputs": [
        {
          "output_type": "stream",
          "name": "stdout",
          "text": [
            "(25000, 500)\n",
            "(25000, 500)\n"
          ]
        }
      ]
    },
    {
      "cell_type": "code",
      "source": [
        "#단어의 인덱스로 구성되있다.\n",
        "\n",
        "print('패딩한 x_train:',pad_x_train[:5],sep='\\n')\n",
        "print('패딩한 x_test:',pad_x_test[:5],sep='\\n')\n",
        "print('y_train:',y_train[:5])\n",
        "print('y_test:',y_test[:5])"
      ],
      "metadata": {
        "colab": {
          "base_uri": "https://localhost:8080/"
        },
        "id": "Lg6ZDyCEQbHb",
        "outputId": "324dc2b4-3e48-4a4e-e97e-11e8cf8e6073"
      },
      "execution_count": null,
      "outputs": [
        {
          "output_type": "stream",
          "name": "stdout",
          "text": [
            "패딩한 x_train:\n",
            "[[   0    0    0 ...   19  178   32]\n",
            " [   0    0    0 ...   16  145   95]\n",
            " [   0    0    0 ...    7  129  113]\n",
            " [ 687   23    4 ...   21   64 2574]\n",
            " [   0    0    0 ...    7   61  113]]\n",
            "패딩한 x_test:\n",
            "[[   0    0    0 ...   14    6  717]\n",
            " [   0    0    0 ...  125    4 3077]\n",
            " [  33    6   58 ...    9   57  975]\n",
            " [   0    0    0 ...   28  314 1772]\n",
            " [   0    0    0 ...  158  856  158]]\n",
            "y_train: [1 0 0 1 0]\n",
            "y_test: [0 1 1 0 1]\n"
          ]
        }
      ]
    },
    {
      "cell_type": "markdown",
      "metadata": {
        "id": "j3E0hYiHoBO0"
      },
      "source": [
        "### 모델 구성"
      ]
    },
    {
      "cell_type": "code",
      "metadata": {
        "id": "PvKPr7N6nuHr"
      },
      "source": [
        "def build_model():\n",
        "  model=Sequential()\n",
        "\n",
        "  model.add(Embedding(input_dim=num_words,output_dim=32,input_length=max_len))\n",
        "  model.add(Conv1D(32,7,activation='relu')) #필터32개,필터크기7\n",
        "  model.add(MaxPooling1D(7))\n",
        "  model.add(Conv1D(32,5,activation='relu'))\n",
        "  model.add(MaxPooling1D(5))\n",
        "  model.add(GlobalMaxPooling1D())\n",
        "  model.add(Dense(1,activation='softmax'))\n",
        "\n",
        "  model.compile(optimizer=RMSprop(learning_rate=1e-4),\n",
        "                loss='binary_crossentropy',\n",
        "                metrics=['accuracy'])\n",
        "  return model\n",
        "  \n",
        "  #해당 모델은 마지막 시점에서 두 개의 선택지 중 하나를 예측하는 이진 분류 문제를 \n",
        "  #수행하는 모델입니다. 이진 분류 문제의 경우, 출력층에 로지스틱 회귀를 \n",
        "  #사용해야 하므로 활성화 함수로는 시그모이드 함수를 사용 "
      ],
      "execution_count": null,
      "outputs": []
    },
    {
      "cell_type": "code",
      "metadata": {
        "id": "wwWZ47NHolB6",
        "colab": {
          "base_uri": "https://localhost:8080/"
        },
        "outputId": "fabdb260-8c52-4952-fc08-b01f86337299"
      },
      "source": [
        "model=build_model()\n",
        "model.summary()"
      ],
      "execution_count": null,
      "outputs": [
        {
          "output_type": "stream",
          "name": "stdout",
          "text": [
            "Model: \"sequential_4\"\n",
            "_________________________________________________________________\n",
            " Layer (type)                Output Shape              Param #   \n",
            "=================================================================\n",
            " embedding_4 (Embedding)     (None, 500, 32)           320000    \n",
            "                                                                 \n",
            " conv1d_8 (Conv1D)           (None, 494, 32)           7200      \n",
            "                                                                 \n",
            " max_pooling1d_8 (MaxPooling  (None, 70, 32)           0         \n",
            " 1D)                                                             \n",
            "                                                                 \n",
            " conv1d_9 (Conv1D)           (None, 66, 32)            5152      \n",
            "                                                                 \n",
            " max_pooling1d_9 (MaxPooling  (None, 13, 32)           0         \n",
            " 1D)                                                             \n",
            "                                                                 \n",
            " global_max_pooling1d_4 (Glo  (None, 32)               0         \n",
            " balMaxPooling1D)                                                \n",
            "                                                                 \n",
            " dense_4 (Dense)             (None, 1)                 33        \n",
            "                                                                 \n",
            "=================================================================\n",
            "Total params: 332,385\n",
            "Trainable params: 332,385\n",
            "Non-trainable params: 0\n",
            "_________________________________________________________________\n"
          ]
        }
      ]
    },
    {
      "cell_type": "markdown",
      "metadata": {
        "id": "0qUbPGdmpHpQ"
      },
      "source": [
        "### 모델 학습"
      ]
    },
    {
      "cell_type": "code",
      "metadata": {
        "id": "xcCgjLHvonWB",
        "colab": {
          "base_uri": "https://localhost:8080/"
        },
        "outputId": "d023718c-073c-4d7d-e85d-4eaa91c2f225"
      },
      "source": [
        "history=model.fit(pad_x_train,y_train,\n",
        "                  batch_size=128,epochs=30,\n",
        "                  validation_split=0.2)"
      ],
      "execution_count": null,
      "outputs": [
        {
          "output_type": "stream",
          "name": "stdout",
          "text": [
            "Epoch 1/30\n",
            "157/157 [==============================] - 2s 8ms/step - loss: 0.6931 - accuracy: 0.5016 - val_loss: 0.6925 - val_accuracy: 0.4938\n",
            "Epoch 2/30\n",
            "157/157 [==============================] - 1s 7ms/step - loss: 0.6904 - accuracy: 0.5016 - val_loss: 0.6913 - val_accuracy: 0.4938\n",
            "Epoch 3/30\n",
            "157/157 [==============================] - 1s 7ms/step - loss: 0.6873 - accuracy: 0.5016 - val_loss: 0.6886 - val_accuracy: 0.4938\n",
            "Epoch 4/30\n",
            "157/157 [==============================] - 1s 7ms/step - loss: 0.6814 - accuracy: 0.5016 - val_loss: 0.6810 - val_accuracy: 0.4938\n",
            "Epoch 5/30\n",
            "157/157 [==============================] - 1s 8ms/step - loss: 0.6669 - accuracy: 0.5016 - val_loss: 0.6595 - val_accuracy: 0.4938\n",
            "Epoch 6/30\n",
            "157/157 [==============================] - 1s 9ms/step - loss: 0.6308 - accuracy: 0.5016 - val_loss: 0.6087 - val_accuracy: 0.4938\n",
            "Epoch 7/30\n",
            "157/157 [==============================] - 1s 7ms/step - loss: 0.5615 - accuracy: 0.5016 - val_loss: 0.5285 - val_accuracy: 0.4938\n",
            "Epoch 8/30\n",
            "157/157 [==============================] - 1s 7ms/step - loss: 0.4735 - accuracy: 0.5016 - val_loss: 0.4498 - val_accuracy: 0.4938\n",
            "Epoch 9/30\n",
            "157/157 [==============================] - 1s 7ms/step - loss: 0.3987 - accuracy: 0.5016 - val_loss: 0.3965 - val_accuracy: 0.4938\n",
            "Epoch 10/30\n",
            "157/157 [==============================] - 1s 7ms/step - loss: 0.3481 - accuracy: 0.5016 - val_loss: 0.3676 - val_accuracy: 0.4938\n",
            "Epoch 11/30\n",
            "157/157 [==============================] - 1s 7ms/step - loss: 0.3149 - accuracy: 0.5016 - val_loss: 0.3500 - val_accuracy: 0.4938\n",
            "Epoch 12/30\n",
            "157/157 [==============================] - 1s 7ms/step - loss: 0.2903 - accuracy: 0.5016 - val_loss: 0.3400 - val_accuracy: 0.4938\n",
            "Epoch 13/30\n",
            "157/157 [==============================] - 1s 7ms/step - loss: 0.2711 - accuracy: 0.5016 - val_loss: 0.3335 - val_accuracy: 0.4938\n",
            "Epoch 14/30\n",
            "157/157 [==============================] - 1s 7ms/step - loss: 0.2550 - accuracy: 0.5016 - val_loss: 0.3306 - val_accuracy: 0.4938\n",
            "Epoch 15/30\n",
            "157/157 [==============================] - 1s 7ms/step - loss: 0.2408 - accuracy: 0.5016 - val_loss: 0.3294 - val_accuracy: 0.4938\n",
            "Epoch 16/30\n",
            "157/157 [==============================] - 1s 9ms/step - loss: 0.2286 - accuracy: 0.5016 - val_loss: 0.3266 - val_accuracy: 0.4938\n",
            "Epoch 17/30\n",
            "157/157 [==============================] - 1s 9ms/step - loss: 0.2173 - accuracy: 0.5016 - val_loss: 0.3262 - val_accuracy: 0.4938\n",
            "Epoch 18/30\n",
            "157/157 [==============================] - 1s 7ms/step - loss: 0.2069 - accuracy: 0.5016 - val_loss: 0.3282 - val_accuracy: 0.4938\n",
            "Epoch 19/30\n",
            "157/157 [==============================] - 1s 7ms/step - loss: 0.1975 - accuracy: 0.5016 - val_loss: 0.3292 - val_accuracy: 0.4938\n",
            "Epoch 20/30\n",
            "157/157 [==============================] - 1s 7ms/step - loss: 0.1888 - accuracy: 0.5016 - val_loss: 0.3312 - val_accuracy: 0.4938\n",
            "Epoch 21/30\n",
            "157/157 [==============================] - 1s 7ms/step - loss: 0.1807 - accuracy: 0.5016 - val_loss: 0.3342 - val_accuracy: 0.4938\n",
            "Epoch 22/30\n",
            "157/157 [==============================] - 1s 6ms/step - loss: 0.1732 - accuracy: 0.5016 - val_loss: 0.3413 - val_accuracy: 0.4938\n",
            "Epoch 23/30\n",
            "157/157 [==============================] - 1s 7ms/step - loss: 0.1657 - accuracy: 0.5016 - val_loss: 0.3414 - val_accuracy: 0.4938\n",
            "Epoch 24/30\n",
            "157/157 [==============================] - 1s 7ms/step - loss: 0.1592 - accuracy: 0.5016 - val_loss: 0.3453 - val_accuracy: 0.4938\n",
            "Epoch 25/30\n",
            "157/157 [==============================] - 1s 7ms/step - loss: 0.1528 - accuracy: 0.5016 - val_loss: 0.3504 - val_accuracy: 0.4938\n",
            "Epoch 26/30\n",
            "157/157 [==============================] - 1s 7ms/step - loss: 0.1467 - accuracy: 0.5016 - val_loss: 0.3545 - val_accuracy: 0.4938\n",
            "Epoch 27/30\n",
            "157/157 [==============================] - 1s 9ms/step - loss: 0.1413 - accuracy: 0.5016 - val_loss: 0.3589 - val_accuracy: 0.4938\n",
            "Epoch 28/30\n",
            "157/157 [==============================] - 1s 9ms/step - loss: 0.1358 - accuracy: 0.5016 - val_loss: 0.3650 - val_accuracy: 0.4938\n",
            "Epoch 29/30\n",
            "157/157 [==============================] - 1s 7ms/step - loss: 0.1307 - accuracy: 0.5016 - val_loss: 0.3689 - val_accuracy: 0.4938\n",
            "Epoch 30/30\n",
            "157/157 [==============================] - 1s 7ms/step - loss: 0.1258 - accuracy: 0.5016 - val_loss: 0.3746 - val_accuracy: 0.4938\n"
          ]
        }
      ]
    },
    {
      "cell_type": "markdown",
      "metadata": {
        "id": "n2yEkawIph4C"
      },
      "source": [
        "### 시각화"
      ]
    },
    {
      "cell_type": "code",
      "metadata": {
        "id": "BfKC0UOkpPmP",
        "colab": {
          "base_uri": "https://localhost:8080/",
          "height": 507
        },
        "outputId": "ffb632fb-7c90-4c81-acd0-87e3a71eee8b"
      },
      "source": [
        "import matplotlib.pyplot as plt\n",
        "plt.style.use('seaborn-white')\n",
        "\n",
        "loss=history.history['loss']\n",
        "val_loss=history.history['val_loss']\n",
        "acc=history.history['accuracy']\n",
        "val_acc=history.history['val_accuracy']\n",
        "\n",
        "epochs=range(1,len(loss)+1)\n",
        "\n",
        "plt.plot(epochs,loss,'b--',label='training loss')\n",
        "plt.plot(epochs,val_loss,'r:',label='validation loss')\n",
        "plt.grid()\n",
        "plt.legend()\n",
        "\n",
        "plt.figure()\n",
        "plt.plot(epochs,acc,'b--',label='training accuracy')\n",
        "plt.plot(epochs,val_acc,'r:',label='validation accuracy')\n",
        "plt.grid()\n",
        "plt.legend()\n",
        "\n",
        "plt.show()"
      ],
      "execution_count": null,
      "outputs": [
        {
          "output_type": "display_data",
          "data": {
            "text/plain": [
              "<Figure size 432x288 with 1 Axes>"
            ],
            "image/png": "[encoded data removed]"
          },
          "metadata": {}
        },
        {
          "output_type": "display_data",
          "data": {
            "text/plain": [
              "<Figure size 432x288 with 1 Axes>"
            ],
            "image/png": "[encoded data removed]"
          },
          "metadata": {}
        }
      ]
    },
    {
      "cell_type": "code",
      "source": [],
      "metadata": {
        "id": "c3gU5Q-2ouaC"
      },
      "execution_count": null,
      "outputs": []
    },
    {
      "cell_type": "code",
      "source": [
        "model.evaluate(pad_x_test,y_test)"
      ],
      "metadata": {
        "colab": {
          "base_uri": "https://localhost:8080/"
        },
        "id": "sbLqCIiGT_Lk",
        "outputId": "b6d345ca-3be5-4eb4-c023-712557bbe232"
      },
      "execution_count": null,
      "outputs": [
        {
          "output_type": "stream",
          "name": "stdout",
          "text": [
            "782/782 [==============================] - 2s 3ms/step - loss: 0.3846 - accuracy: 0.5000\n"
          ]
        },
        {
          "output_type": "execute_result",
          "data": {
            "text/plain": [
              "[0.3846351206302643, 0.5]"
            ]
          },
          "metadata": {},
          "execution_count": 13
        }
      ]
    },
    {
      "cell_type": "markdown",
      "metadata": {
        "id": "Oz_Iu_VHV7Z5"
      },
      "source": [
        "## Reuters 데이터"
      ]
    },
    {
      "cell_type": "markdown",
      "metadata": {
        "id": "4_Q6p0nhV7Z6"
      },
      "source": [
        "### 데이터 로드 및 전처리"
      ]
    },
    {
      "cell_type": "code",
      "metadata": {
        "id": "waEmkCowV7Z7"
      },
      "source": [
        "from tensorflow.keras.datasets import reuters"
      ],
      "execution_count": null,
      "outputs": []
    },
    {
      "cell_type": "code",
      "metadata": {
        "id": "dggcmeJ4V7Z_",
        "colab": {
          "base_uri": "https://localhost:8080/"
        },
        "outputId": "6249090a-ad38-4492-eab4-cfd16933a8a5"
      },
      "source": [
        "num_words=10000\n",
        "max_len=500\n",
        "\n",
        "(input_train,y_train),(input_test,y_test)=reuters.load_data(num_words=num_words)\n",
        "\n",
        "print(len(input_train))\n",
        "print(len(input_test))"
      ],
      "execution_count": null,
      "outputs": [
        {
          "output_type": "stream",
          "name": "stdout",
          "text": [
            "8982\n",
            "2246\n"
          ]
        }
      ]
    },
    {
      "cell_type": "code",
      "metadata": {
        "id": "EBOJIgbgV7aB",
        "colab": {
          "base_uri": "https://localhost:8080/"
        },
        "outputId": "61ac58e1-9458-4ad1-9254-1842d61fe298"
      },
      "source": [
        "pad_x_train=pad_sequences(input_train,maxlen=max_len)\n",
        "pad_x_test=pad_sequences(input_test,maxlen=max_len)\n",
        "\n",
        "print(pad_x_train.shape)\n",
        "print(pad_x_test.shape)"
      ],
      "execution_count": null,
      "outputs": [
        {
          "output_type": "stream",
          "name": "stdout",
          "text": [
            "(8982, 500)\n",
            "(2246, 500)\n"
          ]
        }
      ]
    },
    {
      "cell_type": "markdown",
      "metadata": {
        "id": "xehgNec0V7aE"
      },
      "source": [
        "### 모델 구성"
      ]
    },
    {
      "cell_type": "code",
      "metadata": {
        "id": "RTV2qF8_V7aE"
      },
      "source": [
        "def build_model():\n",
        "  model=Sequential()\n",
        "\n",
        "  model.add(Embedding(input_dim=num_words,output_dim=64,input_length=max_len))\n",
        "  model.add(Conv1D(64,7,activation='relu'))\n",
        "  model.add(MaxPooling1D(7))\n",
        "  model.add(Conv1D(64,5,activation='relu'))\n",
        "  model.add(MaxPooling1D(5))\n",
        "  model.add(GlobalMaxPooling1D())\n",
        "  model.add(Dense(46,activation='softmax'))\n",
        "\n",
        "  model.compile(optimizer='adam',\n",
        "                loss='sparse_categorical_crossentropy',\n",
        "                metrics=['accuracy'])\n",
        "  return model "
      ],
      "execution_count": null,
      "outputs": []
    },
    {
      "cell_type": "code",
      "metadata": {
        "id": "48n2W3xpV7aG",
        "colab": {
          "base_uri": "https://localhost:8080/"
        },
        "outputId": "1ad74700-288e-407b-b750-732c4427b3b2"
      },
      "source": [
        "model=build_model()\n",
        "model.summary()"
      ],
      "execution_count": null,
      "outputs": [
        {
          "output_type": "stream",
          "name": "stdout",
          "text": [
            "Model: \"sequential_3\"\n",
            "_________________________________________________________________\n",
            " Layer (type)                Output Shape              Param #   \n",
            "=================================================================\n",
            " embedding_3 (Embedding)     (None, 500, 64)           640000    \n",
            "                                                                 \n",
            " conv1d_6 (Conv1D)           (None, 494, 64)           28736     \n",
            "                                                                 \n",
            " max_pooling1d_6 (MaxPooling  (None, 70, 64)           0         \n",
            " 1D)                                                             \n",
            "                                                                 \n",
            " conv1d_7 (Conv1D)           (None, 66, 64)            20544     \n",
            "                                                                 \n",
            " max_pooling1d_7 (MaxPooling  (None, 13, 64)           0         \n",
            " 1D)                                                             \n",
            "                                                                 \n",
            " global_max_pooling1d_3 (Glo  (None, 64)               0         \n",
            " balMaxPooling1D)                                                \n",
            "                                                                 \n",
            " dense_3 (Dense)             (None, 46)                2990      \n",
            "                                                                 \n",
            "=================================================================\n",
            "Total params: 692,270\n",
            "Trainable params: 692,270\n",
            "Non-trainable params: 0\n",
            "_________________________________________________________________\n"
          ]
        }
      ]
    },
    {
      "cell_type": "markdown",
      "metadata": {
        "id": "WeRmu5WMV7aI"
      },
      "source": [
        "### 모델 학습"
      ]
    },
    {
      "cell_type": "code",
      "metadata": {
        "id": "BGVdYyIrV7aJ",
        "colab": {
          "base_uri": "https://localhost:8080/"
        },
        "outputId": "b9011a83-8ddc-4fd0-82c7-f10862a3c76e"
      },
      "source": [
        "history=model.fit(pad_x_train,y_train,\n",
        "                  batch_size=128,epochs=30,\n",
        "                  validation_split=0.2)"
      ],
      "execution_count": null,
      "outputs": [
        {
          "output_type": "stream",
          "name": "stdout",
          "text": [
            "Epoch 1/30\n",
            "57/57 [==============================] - 2s 17ms/step - loss: 2.6369 - accuracy: 0.3702 - val_loss: 1.9794 - val_accuracy: 0.4958\n",
            "Epoch 2/30\n",
            "57/57 [==============================] - 1s 11ms/step - loss: 1.8249 - accuracy: 0.5286 - val_loss: 1.7073 - val_accuracy: 0.5687\n",
            "Epoch 3/30\n",
            "57/57 [==============================] - 1s 11ms/step - loss: 1.6012 - accuracy: 0.5882 - val_loss: 1.5700 - val_accuracy: 0.5927\n",
            "Epoch 4/30\n",
            "57/57 [==============================] - 1s 11ms/step - loss: 1.4092 - accuracy: 0.6482 - val_loss: 1.4443 - val_accuracy: 0.6400\n",
            "Epoch 5/30\n",
            "57/57 [==============================] - 1s 11ms/step - loss: 1.2087 - accuracy: 0.7084 - val_loss: 1.3527 - val_accuracy: 0.6834\n",
            "Epoch 6/30\n",
            "57/57 [==============================] - 1s 11ms/step - loss: 1.0253 - accuracy: 0.7435 - val_loss: 1.3037 - val_accuracy: 0.6989\n",
            "Epoch 7/30\n",
            "57/57 [==============================] - 1s 11ms/step - loss: 0.8387 - accuracy: 0.7910 - val_loss: 1.2791 - val_accuracy: 0.7123\n",
            "Epoch 8/30\n",
            "57/57 [==============================] - 1s 11ms/step - loss: 0.6676 - accuracy: 0.8298 - val_loss: 1.2883 - val_accuracy: 0.7273\n",
            "Epoch 9/30\n",
            "57/57 [==============================] - 1s 11ms/step - loss: 0.5331 - accuracy: 0.8640 - val_loss: 1.3156 - val_accuracy: 0.7390\n",
            "Epoch 10/30\n",
            "57/57 [==============================] - 1s 11ms/step - loss: 0.4318 - accuracy: 0.8912 - val_loss: 1.3898 - val_accuracy: 0.7279\n",
            "Epoch 11/30\n",
            "57/57 [==============================] - 1s 11ms/step - loss: 0.3491 - accuracy: 0.9138 - val_loss: 1.4096 - val_accuracy: 0.7390\n",
            "Epoch 12/30\n",
            "57/57 [==============================] - 1s 11ms/step - loss: 0.2894 - accuracy: 0.9297 - val_loss: 1.4736 - val_accuracy: 0.7435\n",
            "Epoch 13/30\n",
            "57/57 [==============================] - 1s 11ms/step - loss: 0.2517 - accuracy: 0.9434 - val_loss: 1.5120 - val_accuracy: 0.7423\n",
            "Epoch 14/30\n",
            "57/57 [==============================] - 1s 11ms/step - loss: 0.2091 - accuracy: 0.9517 - val_loss: 1.5940 - val_accuracy: 0.7307\n",
            "Epoch 15/30\n",
            "57/57 [==============================] - 1s 11ms/step - loss: 0.1891 - accuracy: 0.9545 - val_loss: 1.5832 - val_accuracy: 0.7407\n",
            "Epoch 16/30\n",
            "57/57 [==============================] - 1s 11ms/step - loss: 0.1704 - accuracy: 0.9584 - val_loss: 1.6552 - val_accuracy: 0.7284\n",
            "Epoch 17/30\n",
            "57/57 [==============================] - 1s 11ms/step - loss: 0.1522 - accuracy: 0.9598 - val_loss: 1.6459 - val_accuracy: 0.7396\n",
            "Epoch 18/30\n",
            "57/57 [==============================] - 1s 11ms/step - loss: 0.1455 - accuracy: 0.9601 - val_loss: 1.6424 - val_accuracy: 0.7357\n",
            "Epoch 19/30\n",
            "57/57 [==============================] - 1s 11ms/step - loss: 0.1435 - accuracy: 0.9623 - val_loss: 1.7260 - val_accuracy: 0.7318\n",
            "Epoch 20/30\n",
            "57/57 [==============================] - 1s 11ms/step - loss: 0.1284 - accuracy: 0.9627 - val_loss: 1.6883 - val_accuracy: 0.7412\n",
            "Epoch 21/30\n",
            "57/57 [==============================] - 1s 11ms/step - loss: 0.1278 - accuracy: 0.9626 - val_loss: 1.6962 - val_accuracy: 0.7362\n",
            "Epoch 22/30\n",
            "57/57 [==============================] - 1s 11ms/step - loss: 0.1298 - accuracy: 0.9640 - val_loss: 1.7027 - val_accuracy: 0.7407\n",
            "Epoch 23/30\n",
            "57/57 [==============================] - 1s 11ms/step - loss: 0.1179 - accuracy: 0.9631 - val_loss: 1.7126 - val_accuracy: 0.7307\n",
            "Epoch 24/30\n",
            "57/57 [==============================] - 1s 11ms/step - loss: 0.1217 - accuracy: 0.9633 - val_loss: 1.6875 - val_accuracy: 0.7368\n",
            "Epoch 25/30\n",
            "57/57 [==============================] - 1s 11ms/step - loss: 0.1116 - accuracy: 0.9624 - val_loss: 1.6856 - val_accuracy: 0.7379\n",
            "Epoch 26/30\n",
            "57/57 [==============================] - 1s 11ms/step - loss: 0.1023 - accuracy: 0.9663 - val_loss: 1.7022 - val_accuracy: 0.7401\n",
            "Epoch 27/30\n",
            "57/57 [==============================] - 1s 11ms/step - loss: 0.1016 - accuracy: 0.9646 - val_loss: 1.6891 - val_accuracy: 0.7379\n",
            "Epoch 28/30\n",
            "57/57 [==============================] - 1s 11ms/step - loss: 0.0993 - accuracy: 0.9638 - val_loss: 1.7382 - val_accuracy: 0.7435\n",
            "Epoch 29/30\n",
            "57/57 [==============================] - 1s 11ms/step - loss: 0.0970 - accuracy: 0.9646 - val_loss: 1.7051 - val_accuracy: 0.7284\n",
            "Epoch 30/30\n",
            "57/57 [==============================] - 1s 11ms/step - loss: 0.1058 - accuracy: 0.9642 - val_loss: 1.6994 - val_accuracy: 0.7312\n"
          ]
        }
      ]
    },
    {
      "cell_type": "markdown",
      "metadata": {
        "id": "ao8NNj2SV7aL"
      },
      "source": [
        "### 시각화"
      ]
    },
    {
      "cell_type": "code",
      "metadata": {
        "id": "D_CisVtyV7aL",
        "colab": {
          "base_uri": "https://localhost:8080/",
          "height": 507
        },
        "outputId": "61074ddf-554d-4c5b-a310-7d3826ba6d68"
      },
      "source": [
        "loss=history.history['loss']\n",
        "val_loss=history.history['val_loss']\n",
        "acc=history.history['accuracy']\n",
        "val_acc=history.history['val_accuracy']\n",
        "\n",
        "epochs=range(1,len(loss)+1)\n",
        "\n",
        "plt.plot(epochs,loss,'b--',label='training loss')\n",
        "plt.plot(epochs,val_loss,'r:',label='validation loss')\n",
        "plt.grid()\n",
        "plt.legend()\n",
        "\n",
        "plt.figure()\n",
        "plt.plot(epochs,acc,'b--',label='training accuracy')\n",
        "plt.plot(epochs,val_acc,'r:',label='validation accuracy')\n",
        "plt.grid()\n",
        "plt.legend()\n",
        "\n",
        "plt.show()"
      ],
      "execution_count": null,
      "outputs": [
        {
          "output_type": "display_data",
          "data": {
            "text/plain": [
              "<Figure size 432x288 with 1 Axes>"
            ],
            "image/png": "[encoded data removed]"
          },
          "metadata": {}
        },
        {
          "output_type": "display_data",
          "data": {
            "text/plain": [
              "<Figure size 432x288 with 1 Axes>"
            ],
            "image/png": "[encoded data removed]"
          },
          "metadata": {}
        }
      ]
    },
    {
      "cell_type": "code",
      "metadata": {
        "id": "NCsNsoiUV7aP",
        "colab": {
          "base_uri": "https://localhost:8080/"
        },
        "outputId": "8d392ef8-c23e-4eb1-ba5f-e3c3364ae9d6"
      },
      "source": [
        "model.evaluate(pad_x_test,y_test)"
      ],
      "execution_count": null,
      "outputs": [
        {
          "output_type": "stream",
          "name": "stdout",
          "text": [
            "71/71 [==============================] - 0s 4ms/step - loss: 2.1959 - accuracy: 0.6874\n"
          ]
        },
        {
          "output_type": "execute_result",
          "data": {
            "text/plain": [
              "[2.195868492126465, 0.6874443292617798]"
            ]
          },
          "metadata": {},
          "execution_count": 30
        }
      ]
    }
  ]
}