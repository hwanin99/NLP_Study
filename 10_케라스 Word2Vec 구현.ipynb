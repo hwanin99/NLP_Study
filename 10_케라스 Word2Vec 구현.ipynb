{
  "nbformat": 4,
  "nbformat_minor": 0,
  "metadata": {
    "colab": {
      "provenance": [],
      "include_colab_link": true
    },
    "kernelspec": {
      "name": "python3",
      "display_name": "Python 3"
    },
    "accelerator": "GPU"
  },
  "cells": [
    {
      "cell_type": "markdown",
      "metadata": {
        "id": "view-in-github",
        "colab_type": "text"
      },
      "source": [
        "<a href=\"https://colab.research.google.com/github/hwanin99/NLP_Study/blob/main/10_%EC%BC%80%EB%9D%BC%EC%8A%A4%20Word2Vec%20%EA%B5%AC%ED%98%84.ipynb\" target=\"_parent\"><img src=\"https://colab.research.google.com/assets/colab-badge.svg\" alt=\"Open In Colab\"/></a>"
      ]
    },
    {
      "cell_type": "markdown",
      "metadata": {
        "id": "Mk3q9W0DjH5G"
      },
      "source": [
        "# 케라스 Word2Vec 구현\n",
        "\n",
        "* 참고: https://wikidocs.net/69141"
      ]
    },
    {
      "cell_type": "markdown",
      "metadata": {
        "id": "RxZOa3m8qFw3"
      },
      "source": [
        "### 전처리"
      ]
    },
    {
      "cell_type": "code",
      "metadata": {
        "id": "ohSE_JnMSRDR",
        "colab": {
          "base_uri": "https://localhost:8080/",
          "height": 162
        },
        "outputId": "a789bb02-e307-4ec3-eac7-5c8df7a49c02"
      },
      "source": [
        "from sklearn.datasets import fetch_20newsgroups\n",
        "\n",
        "dataset=fetch_20newsgroups(shuffle=True,random_state=1,\n",
        "                           remove=('headers','footers','quotes'))\n",
        "documents=dataset.data\n",
        "\n",
        "print(len(documents))\n",
        "documents[1]"
      ],
      "execution_count": null,
      "outputs": [
        {
          "output_type": "stream",
          "name": "stdout",
          "text": [
            "11314\n"
          ]
        },
        {
          "output_type": "execute_result",
          "data": {
            "text/plain": [
              "\"\\n\\n\\n\\n\\n\\n\\nYeah, do you expect people to read the FAQ, etc. and actually accept hard\\natheism?  No, you need a little leap of faith, Jimmy.  Your logic runs out\\nof steam!\\n\\n\\n\\n\\n\\n\\n\\nJim,\\n\\nSorry I can't pity you, Jim.  And I'm sorry that you have these feelings of\\ndenial about the faith you need to get by.  Oh well, just pretend that it will\\nall end happily ever after anyway.  Maybe if you start a new newsgroup,\\nalt.atheist.hard, you won't be bummin' so much?\\n\\n\\n\\n\\n\\n\\nBye-Bye, Big Jim.  Don't forget your Flintstone's Chewables!  :) \\n--\\nBake Timmons, III\""
            ],
            "application/vnd.google.colaboratory.intrinsic+json": {
              "type": "string"
            }
          },
          "metadata": {},
          "execution_count": 7
        }
      ]
    },
    {
      "cell_type": "code",
      "metadata": {
        "id": "E56d3KXroenQ"
      },
      "source": [
        "import re\n",
        "import nltk\n",
        "\n",
        "from nltk.corpus import stopwords\n",
        "from nltk.tokenize import word_tokenize\n",
        "\n",
        "nltk.download('popular')\n",
        "\n",
        "def clean_text(d):\n",
        "  pattern=r'[^a-zA-Z\\s]'\n",
        "  text=re.sub(pattern,'',d)\n",
        "  return text\n",
        "\n",
        "def clean_stopword(d):\n",
        "  stop_words=stopwords.words('english')\n",
        "  return ' '.join([w.lower() for w in d.split() if w.lower() not in stop_words and len(w)>3])\n",
        "\n",
        "def tokenize(d):\n",
        "  return word_tokenize(d)"
      ],
      "execution_count": null,
      "outputs": []
    },
    {
      "cell_type": "code",
      "metadata": {
        "id": "QCo9S9RlrfQg",
        "colab": {
          "base_uri": "https://localhost:8080/"
        },
        "outputId": "4e965dec-c4b0-4089-b47c-645ece576fe4"
      },
      "source": [
        "import pandas as pd\n",
        "\n",
        "news_df=pd.DataFrame({'article':documents})\n",
        "print(len(news_df))"
      ],
      "execution_count": null,
      "outputs": [
        {
          "output_type": "stream",
          "name": "stdout",
          "text": [
            "11314\n"
          ]
        }
      ]
    },
    {
      "cell_type": "code",
      "metadata": {
        "id": "9xzZu6Iprj5B",
        "colab": {
          "base_uri": "https://localhost:8080/"
        },
        "outputId": "410f47a3-09aa-4be1-9e84-147e7a284745"
      },
      "source": [
        "news_df.replace('',float('NaN'),inplace=True)\n",
        "news_df.dropna(inplace=True)\n",
        "print(len(news_df))"
      ],
      "execution_count": null,
      "outputs": [
        {
          "output_type": "stream",
          "name": "stdout",
          "text": [
            "11096\n"
          ]
        }
      ]
    },
    {
      "cell_type": "code",
      "metadata": {
        "id": "Oi3PJ7dMsF8K",
        "colab": {
          "base_uri": "https://localhost:8080/"
        },
        "outputId": "2bf70311-003c-4ada-e260-90b1ec649c11"
      },
      "source": [
        "news_df['article']=news_df['article'].apply(clean_text)\n",
        "news_df['article']"
      ],
      "execution_count": null,
      "outputs": [
        {
          "output_type": "execute_result",
          "data": {
            "text/plain": [
              "0        Well im not sure about the story nad it did se...\n",
              "1        \\n\\n\\n\\n\\n\\n\\nYeah do you expect people to rea...\n",
              "2        Although I realize that principle is not one o...\n",
              "3        Notwithstanding all the legitimate fuss about ...\n",
              "4        Well I will have to change the scoring on my p...\n",
              "                               ...                        \n",
              "11309    Danny Rubenstein an Israeli journalist will be...\n",
              "11310                                                   \\n\n",
              "11311    \\nI agree  Home runs off Clemens are always me...\n",
              "11312    I used HP DeskJet with Orange Micros Grappler ...\n",
              "11313                                          \\nNo arg...\n",
              "Name: article, Length: 11096, dtype: object"
            ]
          },
          "metadata": {},
          "execution_count": 11
        }
      ]
    },
    {
      "cell_type": "code",
      "metadata": {
        "id": "ViSra6MYuM9x",
        "colab": {
          "base_uri": "https://localhost:8080/"
        },
        "outputId": "356d88d5-e079-4774-8d6d-a40640a917aa"
      },
      "source": [
        "news_df['article']=news_df['article'].apply(clean_stopword)\n",
        "news_df['article']"
      ],
      "execution_count": null,
      "outputs": [
        {
          "output_type": "execute_result",
          "data": {
            "text/plain": [
              "0        well sure story seem biased disagree statement...\n",
              "1        yeah expect people read actually accept hard a...\n",
              "2        although realize principle strongest points wo...\n",
              "3        notwithstanding legitimate fuss proposal much ...\n",
              "4        well change scoring playoff pool unfortunately...\n",
              "                               ...                        \n",
              "11309    danny rubenstein israeli journalist speaking t...\n",
              "11310                                                     \n",
              "11311    agree home runs clemens always memorable kinda...\n",
              "11312    used deskjet orange micros grappler system upd...\n",
              "11313    argument murphy scared hell came last year han...\n",
              "Name: article, Length: 11096, dtype: object"
            ]
          },
          "metadata": {},
          "execution_count": 12
        }
      ]
    },
    {
      "cell_type": "code",
      "metadata": {
        "id": "Z3JgTpVfSRD_"
      },
      "source": [
        "tokenized_news=news_df['article'].apply(tokenize)\n",
        "tokenized_news=tokenized_news.to_list()"
      ],
      "execution_count": null,
      "outputs": []
    },
    {
      "cell_type": "code",
      "metadata": {
        "id": "uMCYgUIpSREH",
        "colab": {
          "base_uri": "https://localhost:8080/"
        },
        "outputId": "8b2c7e70-e594-4c0f-e48a-f5bb8cf8dc07"
      },
      "source": [
        "import numpy as np\n",
        "\n",
        "drop_news=[index for index,sentence in enumerate(tokenized_news) if len(sentence) <= 1]\n",
        "news_texts=np.delete(tokenized_news,drop_news,axis=0)\n",
        "print(len(news_texts))"
      ],
      "execution_count": null,
      "outputs": [
        {
          "output_type": "stream",
          "name": "stdout",
          "text": [
            "10939\n"
          ]
        }
      ]
    },
    {
      "cell_type": "code",
      "metadata": {
        "id": "YI45-8AoZxR_"
      },
      "source": [
        "from tensorflow.keras.preprocessing.text import Tokenizer\n",
        "\n",
        "news_2000=news_texts[:2000]\n",
        "\n",
        "tokenizer=Tokenizer()\n",
        "tokenizer.fit_on_texts(news_2000)\n",
        "\n",
        "idx2word={value:key for key,value in tokenizer.word_index.items()}\n",
        "sequences=tokenizer.texts_to_sequences(news_2000)"
      ],
      "execution_count": null,
      "outputs": []
    },
    {
      "cell_type": "code",
      "metadata": {
        "id": "pSt1Tq7TZzmn",
        "colab": {
          "base_uri": "https://localhost:8080/"
        },
        "outputId": "de116f21-f292-4a25-cbac-189c0c8e790c"
      },
      "source": [
        "vocab_size=len(tokenizer.word_index)+1\n",
        "print(vocab_size)"
      ],
      "execution_count": null,
      "outputs": [
        {
          "output_type": "stream",
          "name": "stdout",
          "text": [
            "29706\n"
          ]
        }
      ]
    },
    {
      "cell_type": "code",
      "metadata": {
        "id": "_x1kmaB-ZzRI",
        "colab": {
          "base_uri": "https://localhost:8080/"
        },
        "outputId": "13bc654a-5b47-4c8e-8fe2-17afa73a8c86"
      },
      "source": [
        "print(sequences[1])"
      ],
      "execution_count": null,
      "outputs": [
        {
          "output_type": "stream",
          "name": "stdout",
          "text": [
            "[1232, 443, 2, 56, 113, 405, 57, 1342, 20, 65, 3454, 384, 6822, 1142, 360, 2217, 444, 55, 12419, 444, 1862, 3804, 384, 20, 9, 4279, 8694, 171, 291, 130, 148, 648, 12420, 304, 12421, 14, 12422, 4, 770, 12423, 12424, 4870, 8695]\n"
          ]
        }
      ]
    },
    {
      "cell_type": "markdown",
      "metadata": {
        "id": "ydQWu3ZnqUc4"
      },
      "source": [
        "### Skipgram"
      ]
    },
    {
      "cell_type": "markdown",
      "metadata": {
        "id": "pOCiR_WrqMXk"
      },
      "source": [
        "#### Skipgram 전처리"
      ]
    },
    {
      "cell_type": "markdown",
      "metadata": {
        "id": "ua1h2LF_8DPH"
      },
      "source": [
        "* 네거티브 샘플링(Negative Sampling)\n",
        "\n",
        "  + Word2Vec은 출력층이 내놓는 값에 소프트맥스 함수를 적용해 확률값으로 변환한 후 이를 정답과 비교해 역전파(backpropagation)\n",
        "  + 소프트맥스를 적용하려면 분모에 해당하는 값, 즉 중심단어와 나머지 모든 단어의 내적을 한 뒤, 이를 다시 exp 계산을 하는데 전체 단어가 많을 경우 엄청난 계산량 발생\n",
        "  + 네거티브 샘플링은 소프트맥스 확률을 구할 때 전체 단어를 대상으로 구하지 않고, 일부 단어만 뽑아서 계산을 하는 방식\n",
        "  + 네거티브 샘플링 동작은 사용자가 지정한 윈도우 사이즈 내에 등장하지 않는 단어(negative sample)를 5~20개 정도 뽑고, 이를 정답단어와 합쳐 전체 단어처럼 소프트맥스 확률을 계산하여 파라미터 업데이트"
      ]
    },
    {
      "cell_type": "code",
      "metadata": {
        "id": "QVkAK1ZlXi9Q"
      },
      "source": [
        "from tensorflow.keras.preprocessing.sequence import skipgrams\n",
        "\n",
        "skip_grams=[skipgrams(sample,vocabulary_size=vocab_size,window_size=10) for sample in sequences[:10]]"
      ],
      "execution_count": null,
      "outputs": []
    },
    {
      "cell_type": "code",
      "metadata": {
        "id": "2NBBbnyjXjUv",
        "colab": {
          "base_uri": "https://localhost:8080/"
        },
        "outputId": "c202f18b-4091-4402-e618-b3d9beb9fa1b"
      },
      "source": [
        "pairs,labels=skip_grams[0][0],skip_grams[0][1]\n",
        "for i in range(5):\n",
        "  print('{:s}({:d}),{:s}({:d}) -> {:d}'.format(\n",
        "      idx2word[pairs[i][0]],pairs[i][0],\n",
        "      idx2word[pairs[i][1]],pairs[i][1],\n",
        "      labels[i]))"
      ],
      "execution_count": null,
      "outputs": [
        {
          "output_type": "stream",
          "name": "stdout",
          "text": [
            "incidences(8690),useage(15478) -> 0\n",
            "think(6),atrocities(4868) -> 1\n",
            "seem(167),rediculous(12416) -> 1\n",
            "away(183),carumba(23701) -> 0\n",
            "world(120),monosodium(24749) -> 0\n"
          ]
        }
      ]
    },
    {
      "cell_type": "code",
      "metadata": {
        "id": "I_SCb1sMXlIV",
        "colab": {
          "base_uri": "https://localhost:8080/"
        },
        "outputId": "761960df-fcb5-48ae-f558-b5c0338674af"
      },
      "source": [
        "print(len(skip_grams))\n",
        "print(len(pairs))\n",
        "print(len(labels))"
      ],
      "execution_count": null,
      "outputs": [
        {
          "output_type": "stream",
          "name": "stdout",
          "text": [
            "10\n",
            "2220\n",
            "2220\n"
          ]
        }
      ]
    },
    {
      "cell_type": "code",
      "metadata": {
        "id": "IiA53pYuXlMe"
      },
      "source": [
        "skip_grams=[skipgrams(seq,vocabulary_size=vocab_size,window_size=10) for seq in sequences]"
      ],
      "execution_count": null,
      "outputs": []
    },
    {
      "cell_type": "markdown",
      "metadata": {
        "id": "rsIyKuKuqQpp"
      },
      "source": [
        "#### Skipgram 모델 구성"
      ]
    },
    {
      "cell_type": "code",
      "metadata": {
        "id": "y222fSJx2CwH"
      },
      "source": [
        "from tensorflow.keras.models import Sequential,Model\n",
        "from tensorflow.keras.layers import Embedding,Reshape,Activation,Input,Dot\n",
        "from tensorflow.keras.utils import plot_model"
      ],
      "execution_count": null,
      "outputs": []
    },
    {
      "cell_type": "code",
      "metadata": {
        "id": "FQAT9ZdwPktd"
      },
      "source": [
        "embed_size=50"
      ],
      "execution_count": null,
      "outputs": []
    },
    {
      "cell_type": "code",
      "metadata": {
        "id": "5A4aGPBYPl-v"
      },
      "source": [
        "def word2vec():\n",
        "  target_inputs=Input(shape=(1,),dtype='int32')\n",
        "  target_embedding=Embedding(vocab_size,embed_size)(target_inputs)\n",
        "\n",
        "  context_inputs=Input(shape=(1,),dtype='int32')\n",
        "  context_embedding=Embedding(vocab_size,embed_size)(context_inputs)\n",
        "\n",
        "  dot_product=Dot(axes=2)([target_embedding,context_embedding])\n",
        "  dot_product=Reshape((1,),input_shape=(1,1))(dot_product)\n",
        "  output=Activation('sigmoid')(dot_product)\n",
        "\n",
        "  model=Model(inputs=[target_inputs,context_inputs],outputs=output)\n",
        "  model.compile(loss='binary_crossentropy',optimizer='adam')\n",
        "  \n",
        "  return model"
      ],
      "execution_count": null,
      "outputs": []
    },
    {
      "cell_type": "code",
      "metadata": {
        "id": "uyyg1P7oPoM9",
        "colab": {
          "base_uri": "https://localhost:8080/",
          "height": 989
        },
        "outputId": "6e9d3e40-0a1b-41be-e701-06abdccd26e1"
      },
      "source": [
        "model=word2vec()\n",
        "model.summary()\n",
        "plot_model(model,show_shapes=True,show_layer_names=True)"
      ],
      "execution_count": null,
      "outputs": [
        {
          "output_type": "stream",
          "name": "stdout",
          "text": [
            "Model: \"model\"\n",
            "__________________________________________________________________________________________________\n",
            " Layer (type)                   Output Shape         Param #     Connected to                     \n",
            "==================================================================================================\n",
            " input_1 (InputLayer)           [(None, 1)]          0           []                               \n",
            "                                                                                                  \n",
            " input_2 (InputLayer)           [(None, 1)]          0           []                               \n",
            "                                                                                                  \n",
            " embedding (Embedding)          (None, 1, 50)        1485300     ['input_1[0][0]']                \n",
            "                                                                                                  \n",
            " embedding_1 (Embedding)        (None, 1, 50)        1485300     ['input_2[0][0]']                \n",
            "                                                                                                  \n",
            " dot (Dot)                      (None, 1, 1)         0           ['embedding[0][0]',              \n",
            "                                                                  'embedding_1[0][0]']            \n",
            "                                                                                                  \n",
            " reshape (Reshape)              (None, 1)            0           ['dot[0][0]']                    \n",
            "                                                                                                  \n",
            " activation (Activation)        (None, 1)            0           ['reshape[0][0]']                \n",
            "                                                                                                  \n",
            "==================================================================================================\n",
            "Total params: 2,970,600\n",
            "Trainable params: 2,970,600\n",
            "Non-trainable params: 0\n",
            "__________________________________________________________________________________________________\n"
          ]
        },
        {
          "output_type": "execute_result",
          "data": {
            "image/png": "[encoded data removed]",
            "text/plain": [
              "<IPython.core.display.Image object>"
            ]
          },
          "metadata": {},
          "execution_count": 32
        }
      ]
    },
    {
      "cell_type": "code",
      "metadata": {
        "id": "aKaWUC2DPpMG",
        "colab": {
          "base_uri": "https://localhost:8080/"
        },
        "outputId": "fcffb612-5c11-40f0-f877-4ebba921d155"
      },
      "source": [
        "for epoch in range(1,11):\n",
        "  loss=0\n",
        "  for _, elem in enumerate(skip_grams):\n",
        "    first_elem=np.array(list(zip(*elem[0]))[0],dtype='int32')\n",
        "    second_elem=np.array(list(zip(*elem[0]))[1],dtype='int32')\n",
        "    labels=np.array(elem[1],dtype='int32')\n",
        "    X=[first_elem,second_elem]\n",
        "    Y=labels\n",
        "    loss+=model.train_on_batch(X,Y)\n",
        "\n",
        "  print('Epoch:',epoch,'Loss:',loss)"
      ],
      "execution_count": null,
      "outputs": [
        {
          "output_type": "stream",
          "name": "stdout",
          "text": [
            "Epoch: 1 Loss: 1231.613491088152\n",
            "Epoch: 2 Loss: 931.1104898899794\n",
            "Epoch: 3 Loss: 833.0067681968212\n",
            "Epoch: 4 Loss: 787.5990926250815\n",
            "Epoch: 5 Loss: 761.7297345921397\n",
            "Epoch: 6 Loss: 742.6326371468604\n",
            "Epoch: 7 Loss: 723.5823032855988\n",
            "Epoch: 8 Loss: 700.5546719878912\n",
            "Epoch: 9 Loss: 671.8314341586083\n",
            "Epoch: 10 Loss: 637.255550775677\n"
          ]
        }
      ]
    },
    {
      "cell_type": "code",
      "metadata": {
        "id": "zPNLRZqwXSib"
      },
      "source": [
        "import gensim\n",
        "\n",
        "f=open('skipgram.txt','w')\n",
        "f.write('{} {}\\n'.format(vocab_size-1,embed_size))\n",
        "vectors=model.get_weights()[0]\n",
        "for word, i in tokenizer.word_index.items():\n",
        "  f.write('{} {}\\n'.format(word,' '.join(map(str,list(vectors[i, :])))))\n",
        "f.close()\n",
        "\n",
        "skipgram=gensim.models.KeyedVectors.load_word2vec_format('skipgram.txt',binary=False)"
      ],
      "execution_count": null,
      "outputs": []
    },
    {
      "cell_type": "code",
      "metadata": {
        "id": "VmzFckXv9nk2",
        "colab": {
          "base_uri": "https://localhost:8080/"
        },
        "outputId": "bae2f1fb-3155-485c-8eca-796caaa57c03"
      },
      "source": [
        "skipgram.most_similar(positive=['soldier'])"
      ],
      "execution_count": null,
      "outputs": [
        {
          "output_type": "execute_result",
          "data": {
            "text/plain": [
              "[('traps', 0.8680080771446228),\n",
              " ('israeli', 0.8543732762336731),\n",
              " ('booby', 0.8143962025642395),\n",
              " ('indiscriminately', 0.8106681704521179),\n",
              " ('retalliates', 0.7968088388442993),\n",
              " ('sneak', 0.7566571831703186),\n",
              " ('ammunitions', 0.7353506088256836),\n",
              " ('soldiers', 0.7312570214271545),\n",
              " ('pilots', 0.7188479900360107),\n",
              " ('killed', 0.7095363140106201)]"
            ]
          },
          "metadata": {},
          "execution_count": 35
        }
      ]
    },
    {
      "cell_type": "code",
      "metadata": {
        "id": "omo9v74q9oKD",
        "colab": {
          "base_uri": "https://localhost:8080/"
        },
        "outputId": "5a0015f9-51be-4e8f-eb4f-0acebc91d0d3"
      },
      "source": [
        "skipgram.most_similar(positive=['world'])"
      ],
      "execution_count": null,
      "outputs": [
        {
          "output_type": "execute_result",
          "data": {
            "text/plain": [
              "[('babylon', 0.7516161203384399),\n",
              " ('palestineans', 0.6678062081336975),\n",
              " ('sins', 0.6587831974029541),\n",
              " ('commando', 0.6560817956924438),\n",
              " ('likely', 0.63092440366745),\n",
              " ('remids', 0.6285929083824158),\n",
              " ('soccer', 0.6285245418548584),\n",
              " ('compensatory', 0.62762051820755),\n",
              " ('harlots', 0.6236661672592163),\n",
              " ('britain', 0.6200671195983887)]"
            ]
          },
          "metadata": {},
          "execution_count": 36
        }
      ]
    },
    {
      "cell_type": "markdown",
      "metadata": {
        "id": "vLfmfO1HqZxn"
      },
      "source": [
        "### CBOW\n"
      ]
    },
    {
      "cell_type": "markdown",
      "metadata": {
        "id": "BIrUD6Ph74ya"
      },
      "source": [
        "#### CBOW 전처리"
      ]
    },
    {
      "cell_type": "code",
      "metadata": {
        "id": "TNBmb-UK9tJ-"
      },
      "source": [
        "def skipgram2cbow(skipgrams):\n",
        "  cbows=[]\n",
        "  flag=0\n",
        "  for n in skip_grams:\n",
        "    temp1=[]\n",
        "    for t in n:\n",
        "      if flag==1:\n",
        "        flag=0\n",
        "        temp1.append(t)\n",
        "      else:\n",
        "        flag=1\n",
        "        temp2=[]\n",
        "        for x in t:\n",
        "          temp2.append([x[1],x[0]])\n",
        "        temp1.append(temp2)\n",
        "    cbows.append(temp1)\n",
        "  \n",
        "  return cbows"
      ],
      "execution_count": null,
      "outputs": []
    },
    {
      "cell_type": "code",
      "metadata": {
        "id": "BEIHgfWeALbL"
      },
      "source": [
        "cbows=skipgram2cbow(skip_grams)"
      ],
      "execution_count": null,
      "outputs": []
    },
    {
      "cell_type": "code",
      "metadata": {
        "id": "bPnygNQO1vjJ",
        "colab": {
          "base_uri": "https://localhost:8080/"
        },
        "outputId": "2cebed5b-c5d0-4657-82a4-7198e274817b"
      },
      "source": [
        "pairs,labels=cbows[0][0],cbows[0][1]\n",
        "for i in range(5):\n",
        "  print('{:s}({:d}),{:s}({:d}) -> {:d}'.format(\n",
        "      idx2word[pairs[i][0]],pairs[i][0],\n",
        "      idx2word[pairs[i][1]],pairs[i][1],\n",
        "      labels[i]))"
      ],
      "execution_count": null,
      "outputs": [
        {
          "output_type": "stream",
          "name": "stdout",
          "text": [
            "mfdodzrdckdhzrlhzmzlkzvwrckmcfwcis(29265),jews(296) -> 0\n",
            "look(68),government(46) -> 1\n",
            "rediculous(12416),statement(433) -> 1\n",
            "jokerit(11533),israels(3452) -> 0\n",
            "least(108),might(37) -> 1\n"
          ]
        }
      ]
    },
    {
      "cell_type": "code",
      "metadata": {
        "id": "n7dyMzMz1xXd",
        "colab": {
          "base_uri": "https://localhost:8080/"
        },
        "outputId": "41e32e87-cada-404a-c47e-cc4847fa4af2"
      },
      "source": [
        "print(len(cbows))\n",
        "print(len(pairs))\n",
        "print(len(labels))"
      ],
      "execution_count": null,
      "outputs": [
        {
          "output_type": "stream",
          "name": "stdout",
          "text": [
            "2000\n",
            "2220\n",
            "2220\n"
          ]
        }
      ]
    },
    {
      "cell_type": "markdown",
      "metadata": {
        "id": "D4ulkMuv79SL"
      },
      "source": [
        "#### CBOW 모델 구성"
      ]
    },
    {
      "cell_type": "code",
      "metadata": {
        "id": "XMC5u4Pm8Glt",
        "colab": {
          "base_uri": "https://localhost:8080/",
          "height": 986
        },
        "outputId": "3ac073d9-aa24-48a9-fea6-7afeff16a7fb"
      },
      "source": [
        "model=word2vec()\n",
        "model.summary()\n",
        "plot_model(model,show_shapes=True,show_layer_names=True)"
      ],
      "execution_count": null,
      "outputs": [
        {
          "output_type": "stream",
          "name": "stdout",
          "text": [
            "Model: \"model_1\"\n",
            "__________________________________________________________________________________________________\n",
            " Layer (type)                   Output Shape         Param #     Connected to                     \n",
            "==================================================================================================\n",
            " input_3 (InputLayer)           [(None, 1)]          0           []                               \n",
            "                                                                                                  \n",
            " input_4 (InputLayer)           [(None, 1)]          0           []                               \n",
            "                                                                                                  \n",
            " embedding_2 (Embedding)        (None, 1, 50)        1485300     ['input_3[0][0]']                \n",
            "                                                                                                  \n",
            " embedding_3 (Embedding)        (None, 1, 50)        1485300     ['input_4[0][0]']                \n",
            "                                                                                                  \n",
            " dot_1 (Dot)                    (None, 1, 1)         0           ['embedding_2[0][0]',            \n",
            "                                                                  'embedding_3[0][0]']            \n",
            "                                                                                                  \n",
            " reshape_1 (Reshape)            (None, 1)            0           ['dot_1[0][0]']                  \n",
            "                                                                                                  \n",
            " activation_1 (Activation)      (None, 1)            0           ['reshape_1[0][0]']              \n",
            "                                                                                                  \n",
            "==================================================================================================\n",
            "Total params: 2,970,600\n",
            "Trainable params: 2,970,600\n",
            "Non-trainable params: 0\n",
            "__________________________________________________________________________________________________\n"
          ]
        },
        {
          "output_type": "execute_result",
          "data": {
            "image/png": "[encoded data removed]",
            "text/plain": [
              "<IPython.core.display.Image object>"
            ]
          },
          "metadata": {},
          "execution_count": 46
        }
      ]
    },
    {
      "cell_type": "code",
      "metadata": {
        "id": "6yVXxpfs8JJX",
        "colab": {
          "base_uri": "https://localhost:8080/"
        },
        "outputId": "c1bb1278-66ad-4617-8244-aa743b9e3fd0"
      },
      "source": [
        "for epoch in range(1,11):\n",
        "  loss=0\n",
        "  for _, elem in enumerate(cbows):\n",
        "    first_elem=np.array(list(zip(*elem[0]))[0],dtype='int32')\n",
        "    second_elem=np.array(list(zip(*elem[0]))[1],dtype='int32')\n",
        "    labels=np.array(elem[1],dtype='int32')\n",
        "    X=[first_elem,second_elem]\n",
        "    Y=labels\n",
        "    loss+=model.train_on_batch(X,Y)\n",
        "  \n",
        "  print('Epoch:',epoch,'Loss:',loss)"
      ],
      "execution_count": null,
      "outputs": [
        {
          "output_type": "stream",
          "name": "stdout",
          "text": [
            "Epoch: 1 Loss: 766.2616462856531\n",
            "Epoch: 2 Loss: 740.6552762389183\n",
            "Epoch: 3 Loss: 718.136333744973\n",
            "Epoch: 4 Loss: 694.3226559385657\n",
            "Epoch: 5 Loss: 667.1067880503833\n",
            "Epoch: 6 Loss: 635.528277169913\n",
            "Epoch: 7 Loss: 599.9772464521229\n",
            "Epoch: 8 Loss: 561.7729749090504\n",
            "Epoch: 9 Loss: 523.0055402237922\n",
            "Epoch: 10 Loss: 485.30137420794927\n"
          ]
        }
      ]
    },
    {
      "cell_type": "code",
      "metadata": {
        "id": "POXBaE0d8LFe"
      },
      "source": [
        "import gensim\n",
        "\n",
        "f=open('cbow.txt','w')\n",
        "f.write('{} {}\\n'.format(vocab_size-1,embed_size))\n",
        "vectors=model.get_weights()[0]\n",
        "for word, i in tokenizer.word_index.items():\n",
        "  f.write('{} {}\\n'.format(word,' '.join(map(str,list(vectors[i, :])))))\n",
        "f.close()\n",
        "\n",
        "cbow=gensim.models.KeyedVectors.load_word2vec_format('cbow.txt',binary=False)"
      ],
      "execution_count": null,
      "outputs": []
    },
    {
      "cell_type": "code",
      "metadata": {
        "id": "LK4u6zG49gVn",
        "colab": {
          "base_uri": "https://localhost:8080/"
        },
        "outputId": "2a95a3d3-3538-43e6-ad58-90c9e08a4ef0"
      },
      "source": [
        "cbow.most_similar(positive=['soldier'])"
      ],
      "execution_count": null,
      "outputs": [
        {
          "output_type": "execute_result",
          "data": {
            "text/plain": [
              "[('sneak', 0.9065468907356262),\n",
              " ('ammunitions', 0.9011962413787842),\n",
              " ('pilots', 0.8977410197257996),\n",
              " ('booby', 0.8857370615005493),\n",
              " ('retalliates', 0.8825739622116089),\n",
              " ('transpire', 0.8727003931999207),\n",
              " ('traps', 0.8702945113182068),\n",
              " ('aisha', 0.8699712157249451),\n",
              " ('proliferation', 0.8667306303977966),\n",
              " ('occupying', 0.8532829284667969)]"
            ]
          },
          "metadata": {},
          "execution_count": 52
        }
      ]
    },
    {
      "cell_type": "code",
      "metadata": {
        "id": "h6fQuZSs9hqM",
        "colab": {
          "base_uri": "https://localhost:8080/"
        },
        "outputId": "2b8b931c-2271-44b9-fd02-4e08004ccbc4"
      },
      "source": [
        "cbow.most_similar(positive=['world'])"
      ],
      "execution_count": null,
      "outputs": [
        {
          "output_type": "execute_result",
          "data": {
            "text/plain": [
              "[('rather', 0.9113938212394714),\n",
              " ('would', 0.9106563329696655),\n",
              " ('stuff', 0.9093707203865051),\n",
              " ('believe', 0.9088072776794434),\n",
              " ('like', 0.9077568650245667),\n",
              " ('part', 0.9062697291374207),\n",
              " ('things', 0.9055730104446411),\n",
              " ('days', 0.9045741558074951),\n",
              " ('whats', 0.9040952920913696),\n",
              " ('wont', 0.9021197557449341)]"
            ]
          },
          "metadata": {},
          "execution_count": 53
        }
      ]
    }
  ]
}